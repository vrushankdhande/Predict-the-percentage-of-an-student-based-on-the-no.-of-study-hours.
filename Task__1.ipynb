{
  "nbformat": 4,
  "nbformat_minor": 0,
  "metadata": {
    "colab": {
      "name": "Task _1.ipynb",
      "provenance": []
    },
    "kernelspec": {
      "name": "python3",
      "display_name": "Python 3"
    },
    "language_info": {
      "name": "python"
    }
  },
  "cells": [
    {
      "cell_type": "markdown",
      "metadata": {
        "id": "jPplVcQ6mfgM"
      },
      "source": [
        "**Predication using supverised machine Leraning**\n",
        "\n",
        "**Task 1 -- THE SPARKS FOUNDATION**\n",
        "\n",
        "**Vrushank Dhande**\n",
        "\n",
        "***Predict the percentage of an student based on the no. of study hours.***\n",
        "\n",
        "1.   Simple Linear Regression as it contain 2 veriables\n",
        "2.   Using Python\n",
        "\n",
        "1.   Data link : http://bit.ly/w-data\n",
        "2.   Predict score of study, if student studies for 9.25 hrs/day? \n"
      ]
    },
    {
      "cell_type": "markdown",
      "metadata": {
        "id": "_2Nnhd-QqvkB"
      },
      "source": [
        "**IMPORT ALL THE IMPORANT LIBRARIES**"
      ]
    },
    {
      "cell_type": "code",
      "metadata": {
        "id": "JCI3RSD8qqH7"
      },
      "source": [
        "import numpy as np\n",
        "import pandas as pd\n",
        "import matplotlib.pyplot as plt"
      ],
      "execution_count": null,
      "outputs": []
    },
    {
      "cell_type": "markdown",
      "metadata": {
        "id": "C_OpUTMvtbwV"
      },
      "source": [
        "**ADD THE URL AND ANALZE THE DATA**\n",
        "\n",
        "\n",
        "1.   Data is read by the link.\n",
        "2.   printed the data.\n",
        "3.   Then have check the shape of data.\n",
        "4.   Gate the information of data(No. of columns and data and enterys and the data type.)\n",
        "5.   By this data there are no null values."
      ]
    },
    {
      "cell_type": "code",
      "metadata": {
        "id": "-P-fb39aDB1B",
        "colab": {
          "base_uri": "https://localhost:8080/"
        },
        "outputId": "ee24836b-ecf0-44c6-c715-205e6bea3935"
      },
      "source": [
        "Data_url = 'http://bit.ly/w-data'\n",
        "\n",
        "data_P = pd.read_csv(Data_url)\n",
        "\n",
        "print(data_P.head(10))\n",
        "print(data_P.describe())\n",
        "print(data_P.shape)\n",
        "print(data_P.info()) "
      ],
      "execution_count": null,
      "outputs": [
        {
          "output_type": "stream",
          "text": [
            "   Hours  Scores\n",
            "0    2.5      21\n",
            "1    5.1      47\n",
            "2    3.2      27\n",
            "3    8.5      75\n",
            "4    3.5      30\n",
            "5    1.5      20\n",
            "6    9.2      88\n",
            "7    5.5      60\n",
            "8    8.3      81\n",
            "9    2.7      25\n",
            "           Hours     Scores\n",
            "count  25.000000  25.000000\n",
            "mean    5.012000  51.480000\n",
            "std     2.525094  25.286887\n",
            "min     1.100000  17.000000\n",
            "25%     2.700000  30.000000\n",
            "50%     4.800000  47.000000\n",
            "75%     7.400000  75.000000\n",
            "max     9.200000  95.000000\n",
            "(25, 2)\n",
            "<class 'pandas.core.frame.DataFrame'>\n",
            "RangeIndex: 25 entries, 0 to 24\n",
            "Data columns (total 2 columns):\n",
            " #   Column  Non-Null Count  Dtype  \n",
            "---  ------  --------------  -----  \n",
            " 0   Hours   25 non-null     float64\n",
            " 1   Scores  25 non-null     int64  \n",
            "dtypes: float64(1), int64(1)\n",
            "memory usage: 528.0 bytes\n",
            "None\n"
          ],
          "name": "stdout"
        }
      ]
    },
    {
      "cell_type": "markdown",
      "metadata": {
        "id": "UzvgHHv_smZR"
      },
      "source": [
        "**THE PLOTED GRAPH**\n",
        "1.  The is ploted betweem hours and precentage of studing student.\n",
        "2.  the shows as the Number of study increase the precentage of study is also increases.\n",
        "\n"
      ]
    },
    {
      "cell_type": "code",
      "metadata": {
        "colab": {
          "base_uri": "https://localhost:8080/",
          "height": 295
        },
        "id": "_XREEmiHrdnk",
        "outputId": "25fa1c5b-8823-4cff-e944-218ea48a4fe6"
      },
      "source": [
        "data_P.plot(x='Hours', y='Scores', style='o')  \n",
        "plt.title('Hours vs Percentage')  \n",
        "plt.xlabel('Studing Hours')  \n",
        "plt.ylabel('Percentage Score')  \n",
        "plt.show()"
      ],
      "execution_count": null,
      "outputs": [
        {
          "output_type": "display_data",
          "data": {
            "image/png": "[encoded data removed]",
            "text/plain": [
              "<Figure size 432x288 with 1 Axes>"
            ]
          },
          "metadata": {
            "tags": [],
            "needs_background": "light"
          }
        }
      ]
    },
    {
      "cell_type": "markdown",
      "metadata": {
        "id": "hnkO55c8mDfC"
      },
      "source": [
        "**Preparing that dataset for model and spliting it**\n",
        "1.  The data is stored in X and y veriable.\n",
        "2. Then the data is splited in X_train, X_test, y_train, y_test.\n",
        "3.  Print to check data.  "
      ]
    },
    {
      "cell_type": "code",
      "metadata": {
        "colab": {
          "base_uri": "https://localhost:8080/"
        },
        "id": "HLUtn26BG9ik",
        "outputId": "2402b9f0-bdb0-411a-b555-fa81a0aad39e"
      },
      "source": [
        "from sklearn.linear_model import LinearRegression\n",
        "from sklearn.model_selection import train_test_split \n",
        "\n",
        "x = data_P.iloc[:, :-1].values  \n",
        "y = data_P.iloc[:, 1].values\n",
        "print(x,y)\n",
        "x_train, x_test, y_train, y_test = train_test_split(x, y,test_size=0.2, random_state=0)\n",
        "print(x_train, x_test, y_train, y_test)"
      ],
      "execution_count": null,
      "outputs": [
        {
          "output_type": "stream",
          "text": [
            "[[2.5]\n",
            " [5.1]\n",
            " [3.2]\n",
            " [8.5]\n",
            " [3.5]\n",
            " [1.5]\n",
            " [9.2]\n",
            " [5.5]\n",
            " [8.3]\n",
            " [2.7]\n",
            " [7.7]\n",
            " [5.9]\n",
            " [4.5]\n",
            " [3.3]\n",
            " [1.1]\n",
            " [8.9]\n",
            " [2.5]\n",
            " [1.9]\n",
            " [6.1]\n",
            " [7.4]\n",
            " [2.7]\n",
            " [4.8]\n",
            " [3.8]\n",
            " [6.9]\n",
            " [7.8]] [21 47 27 75 30 20 88 60 81 25 85 62 41 42 17 95 30 24 67 69 30 54 35 76\n",
            " 86]\n",
            "[[3.8]\n",
            " [1.9]\n",
            " [7.8]\n",
            " [6.9]\n",
            " [1.1]\n",
            " [5.1]\n",
            " [7.7]\n",
            " [3.3]\n",
            " [8.3]\n",
            " [9.2]\n",
            " [6.1]\n",
            " [3.5]\n",
            " [2.7]\n",
            " [5.5]\n",
            " [2.7]\n",
            " [8.5]\n",
            " [2.5]\n",
            " [4.8]\n",
            " [8.9]\n",
            " [4.5]] [[1.5]\n",
            " [3.2]\n",
            " [7.4]\n",
            " [2.5]\n",
            " [5.9]] [35 24 86 76 17 47 85 42 81 88 67 30 25 60 30 75 21 54 95 41] [20 27 69 30 62]\n"
          ],
          "name": "stdout"
        }
      ]
    },
    {
      "cell_type": "markdown",
      "metadata": {
        "id": "Nk_ItFcaoJhW"
      },
      "source": [
        "**USING LINEAR REGRESSION**\n",
        "\n",
        "\n",
        "1.   Using regression Creating a model\n",
        "2.   Using X_train and Y_train . The is fit.\n",
        "3.   Print the intercept and coffienent.\n"
      ]
    },
    {
      "cell_type": "code",
      "metadata": {
        "colab": {
          "base_uri": "https://localhost:8080/"
        },
        "id": "FeXKekaAHeDt",
        "outputId": "362ee5d6-85f8-418d-8f43-1f051b8ed689"
      },
      "source": [
        "from sklearn.linear_model import LinearRegression\n",
        "\n",
        "model = LinearRegression()\n",
        "model.fit(x_train, y_train)\n",
        "\n",
        "print(model.intercept_)\n",
        "print(model.coef_)"
      ],
      "execution_count": null,
      "outputs": [
        {
          "output_type": "stream",
          "text": [
            "2.018160041434662\n",
            "[9.91065648]\n"
          ],
          "name": "stdout"
        }
      ]
    },
    {
      "cell_type": "markdown",
      "metadata": {
        "id": "YeDOVPa1ryXd"
      },
      "source": [
        "**Graph of the regression**\n",
        "\n",
        "1.   Ploted the graph of model.\n",
        "2.   Ploted the regression line.\n",
        "3.   graph= hours vs score"
      ]
    },
    {
      "cell_type": "code",
      "metadata": {
        "colab": {
          "base_uri": "https://localhost:8080/",
          "height": 295
        },
        "id": "rSuAClknrwy9",
        "outputId": "1493a947-8d42-47f1-afc0-b09aa16ff5c8"
      },
      "source": [
        "plt.scatter(x_train, y_train)\n",
        "plt.plot(x_train, 1.495142109236383 + 9.87171443*x_train, 'r')\n",
        "plt.title(\"Prediction\")\n",
        "plt.xlabel(\"Hours\")\n",
        "plt.ylabel(\"Scores\")\n",
        "plt.show()"
      ],
      "execution_count": null,
      "outputs": [
        {
          "output_type": "display_data",
          "data": {
            "image/png": "[encoded data removed]",
            "text/plain": [
              "<Figure size 432x288 with 1 Axes>"
            ]
          },
          "metadata": {
            "tags": [],
            "needs_background": "light"
          }
        }
      ]
    },
    {
      "cell_type": "markdown",
      "metadata": {
        "id": "xf3d-emaZavl"
      },
      "source": [
        "**Testing The Data IN hours**\n",
        "1.   Predicting the Score.\n",
        "2.   Comparing Prediction Vs Actual.\n",
        "3.   predication for a score of hours = 9.25"
      ]
    },
    {
      "cell_type": "code",
      "metadata": {
        "colab": {
          "base_uri": "https://localhost:8080/"
        },
        "id": "K6ILFiD6Hrjp",
        "outputId": "f8ba2f06-30a5-4585-eff1-db130502fab5"
      },
      "source": [
        "print(x_test) \n",
        "y_predict = model.predict(x_test) \n",
        "\n",
        "Data_frame = pd.DataFrame({'Actual': y_test, 'Predicted': y_predict})  \n",
        "print(Data_frame)\n",
        "\n",
        "prediction_score = model.predict([[9.25]])\n",
        "print(\"The predicted score is :\",prediction_score)"
      ],
      "execution_count": null,
      "outputs": [
        {
          "output_type": "stream",
          "text": [
            "[[1.5]\n",
            " [3.2]\n",
            " [7.4]\n",
            " [2.5]\n",
            " [5.9]]\n",
            "   Actual  Predicted\n",
            "0      20  16.884145\n",
            "1      27  33.732261\n",
            "2      69  75.357018\n",
            "3      30  26.794801\n",
            "4      62  60.491033\n",
            "The predicted score is : [93.69173249]\n"
          ],
          "name": "stdout"
        }
      ]
    },
    {
      "cell_type": "markdown",
      "metadata": {
        "id": "mWvviXhwZcHJ"
      },
      "source": [
        "**Evaluating the model**\n",
        "\n",
        "1.   Getting the absolute error.\n",
        "2.   Mean square error(root of error).\n",
        "3.   Root mean Squre of error"
      ]
    },
    {
      "cell_type": "code",
      "metadata": {
        "colab": {
          "base_uri": "https://localhost:8080/"
        },
        "id": "cIpSnFCHH1dM",
        "outputId": "fdbca5b6-0c05-457e-e370-9df69e238e2c"
      },
      "source": [
        "from sklearn import metrics\n",
        "from sklearn.metrics import r2_score  \n",
        "from sklearn.metrics import mean_squared_error\n",
        "\n",
        "Ab_error =  metrics.mean_absolute_error(y_test, y_pred)\n",
        "error_squared = r2_score(y_test, y_pred)\n",
        "RT_M_Sqr_E = np.sqrt(mean_squared_error(y_test, y_pred))\n",
        "\n",
        "print(\"Mean absolute error\",Ab_error)\n",
        "print(\"error_squared:\", error_squared)\n",
        "print(\"RT_M_Sqr_E:\",RT_M_Sqr_E)"
      ],
      "execution_count": null,
      "outputs": [
        {
          "output_type": "stream",
          "text": [
            "Mean Absolute Error: 4.183859899002982\n",
            "Mean absolute error 4.183859899002982\n",
            "r squared: 0.9454906892105354\n",
            "RMSE: 4.647447612100373\n"
          ],
          "name": "stdout"
        }
      ]
    }
  ]
}